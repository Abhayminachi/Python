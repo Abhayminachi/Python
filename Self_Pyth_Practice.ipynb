{
 "cells": [
  {
   "cell_type": "markdown",
   "id": "adf63389",
   "metadata": {},
   "source": [
    "# Basic Python Practice"
   ]
  },
  {
   "cell_type": "code",
   "execution_count": 5,
   "id": "7c2fb464",
   "metadata": {},
   "outputs": [
    {
     "name": "stdout",
     "output_type": "stream",
     "text": [
      "Enter your name   Abhay\n",
      "Hello  Abhay\n"
     ]
    }
   ],
   "source": [
    "name  = input(\"Enter your name   \")\n",
    "print(\"Hello \",name)"
   ]
  },
  {
   "cell_type": "code",
   "execution_count": 7,
   "id": "89c2bd2e",
   "metadata": {},
   "outputs": [
    {
     "name": "stdout",
     "output_type": "stream",
     "text": [
      "3 <class 'int'>\n",
      "45\n"
     ]
    }
   ],
   "source": [
    "number = 3\n",
    "print (number , type ( number ))\n",
    "print ( number + 42)\n"
   ]
  },
  {
   "cell_type": "code",
   "execution_count": 8,
   "id": "ee71e084",
   "metadata": {
    "collapsed": true
   },
   "outputs": [
    {
     "name": "stdout",
     "output_type": "stream",
     "text": [
      "3 <class 'str'>\n"
     ]
    },
    {
     "ename": "TypeError",
     "evalue": "can only concatenate str (not \"int\") to str",
     "output_type": "error",
     "traceback": [
      "\u001b[1;31m---------------------------------------------------------------------------\u001b[0m",
      "\u001b[1;31mTypeError\u001b[0m                                 Traceback (most recent call last)",
      "Cell \u001b[1;32mIn[8], line 3\u001b[0m\n\u001b[0;32m      1\u001b[0m number \u001b[38;5;241m=\u001b[39m \u001b[38;5;124m\"\u001b[39m\u001b[38;5;124m3\u001b[39m\u001b[38;5;124m\"\u001b[39m\n\u001b[0;32m      2\u001b[0m \u001b[38;5;28mprint\u001b[39m (number , \u001b[38;5;28mtype\u001b[39m ( number ))\n\u001b[1;32m----> 3\u001b[0m \u001b[38;5;28mprint\u001b[39m ( \u001b[43mnumber\u001b[49m\u001b[43m \u001b[49m\u001b[38;5;241;43m+\u001b[39;49m\u001b[43m \u001b[49m\u001b[38;5;241;43m42\u001b[39;49m)\n",
      "\u001b[1;31mTypeError\u001b[0m: can only concatenate str (not \"int\") to str"
     ]
    }
   ],
   "source": [
    "number = \"3\"\n",
    "print (number , type ( number ))\n",
    "print ( number + 42)"
   ]
  },
  {
   "cell_type": "code",
   "execution_count": 1,
   "id": "4cb15f89",
   "metadata": {},
   "outputs": [
    {
     "name": "stdout",
     "output_type": "stream",
     "text": [
      "Abhay\n"
     ]
    }
   ],
   "source": [
    "print(\"Abhay\")"
   ]
  },
  {
   "cell_type": "code",
   "execution_count": 3,
   "id": "6ce6b399",
   "metadata": {},
   "outputs": [
    {
     "name": "stdout",
     "output_type": "stream",
     "text": [
      "4\n"
     ]
    }
   ],
   "source": [
    "a=4\n",
    "float(a)\n",
    "print(a)"
   ]
  },
  {
   "cell_type": "code",
   "execution_count": 5,
   "id": "9f2dc018",
   "metadata": {},
   "outputs": [
    {
     "data": {
      "text/plain": [
       "2"
      ]
     },
     "execution_count": 5,
     "metadata": {},
     "output_type": "execute_result"
    }
   ],
   "source": [
    "6 & 3"
   ]
  },
  {
   "cell_type": "code",
   "execution_count": 10,
   "id": "2eae8f45",
   "metadata": {},
   "outputs": [
    {
     "name": "stdout",
     "output_type": "stream",
     "text": [
      "Abhay \n",
      "    is Minachi\n"
     ]
    }
   ],
   "source": [
    "s = \"\"\"Abhay \n",
    "    is Minachi\"\"\"\n",
    "\n",
    "print(s)"
   ]
  },
  {
   "cell_type": "code",
   "execution_count": 13,
   "id": "27711c1e",
   "metadata": {},
   "outputs": [
    {
     "name": "stdout",
     "output_type": "stream",
     "text": [
      "Abhay Minachi\n",
      "Plot No 33\n",
      "Kalmeshwar Colony\n",
      "Udyambhag Belgaum\n"
     ]
    }
   ],
   "source": [
    "akm = \"Abhay Minachi\\nPlot No 33\\nKalmeshwar Colony\\nUdyambhag Belgaum\"\n",
    "print(akm)"
   ]
  },
  {
   "cell_type": "code",
   "execution_count": 18,
   "id": "14a10d1c",
   "metadata": {},
   "outputs": [
    {
     "name": "stdout",
     "output_type": "stream",
     "text": [
      "Abhay\n",
      "Minachi\n",
      "Abhay\\nMInachi\n"
     ]
    }
   ],
   "source": [
    "print(\"Abhay\\nMinachi\")\n",
    "print(r\"Abhay\\nMInachi\")"
   ]
  },
  {
   "cell_type": "markdown",
   "id": "75934efe",
   "metadata": {},
   "source": [
    "# LIST "
   ]
  },
  {
   "cell_type": "code",
   "execution_count": 19,
   "id": "f41477af",
   "metadata": {},
   "outputs": [],
   "source": [
    "#list definition\n",
    "list_1 = [\"abhay\",23,-6.45,'d']"
   ]
  },
  {
   "cell_type": "code",
   "execution_count": 25,
   "id": "8ac568c2",
   "metadata": {},
   "outputs": [
    {
     "data": {
      "text/plain": [
       "-6.45"
      ]
     },
     "execution_count": 25,
     "metadata": {},
     "output_type": "execute_result"
    }
   ],
   "source": [
    "list_1[2]"
   ]
  },
  {
   "cell_type": "code",
   "execution_count": 28,
   "id": "65f09bcc",
   "metadata": {},
   "outputs": [
    {
     "data": {
      "text/plain": [
       "['abhay', 23, -6.45, 'd', 56.78, 56.78, 'Minachi']"
      ]
     },
     "execution_count": 28,
     "metadata": {},
     "output_type": "execute_result"
    }
   ],
   "source": [
    "list_1.append(\"Minachi\")\n",
    "list_1"
   ]
  },
  {
   "cell_type": "code",
   "execution_count": 32,
   "id": "140276f9",
   "metadata": {},
   "outputs": [
    {
     "data": {
      "text/plain": [
       "2"
      ]
     },
     "execution_count": 32,
     "metadata": {},
     "output_type": "execute_result"
    }
   ],
   "source": [
    "list_1.count(56.78)"
   ]
  },
  {
   "cell_type": "code",
   "execution_count": 35,
   "id": "a86f96d7",
   "metadata": {},
   "outputs": [
    {
     "data": {
      "text/plain": [
       "['abhay', 23, -6.45, 'Cricket', 'Cricket', 'd', 56.78, 56.78, 'Minachi']"
      ]
     },
     "execution_count": 35,
     "metadata": {},
     "output_type": "execute_result"
    }
   ],
   "source": [
    "list_1.insert(3,\"Cricket\")\n",
    "list_1"
   ]
  },
  {
   "cell_type": "code",
   "execution_count": 38,
   "id": "d016bdca",
   "metadata": {},
   "outputs": [],
   "source": [
    "list_1.remove(56.78)"
   ]
  },
  {
   "cell_type": "code",
   "execution_count": 39,
   "id": "db3613d2",
   "metadata": {},
   "outputs": [
    {
     "data": {
      "text/plain": [
       "['abhay', 23, -6.45, 'Cricket', 'Cricket', 'd', 'Minachi']"
      ]
     },
     "execution_count": 39,
     "metadata": {},
     "output_type": "execute_result"
    }
   ],
   "source": [
    "list_1"
   ]
  },
  {
   "cell_type": "code",
   "execution_count": 41,
   "id": "84adf611",
   "metadata": {},
   "outputs": [
    {
     "data": {
      "text/plain": [
       "['Minachi', 'd', 'Cricket', 'Cricket', -6.45, 23, 'abhay']"
      ]
     },
     "execution_count": 41,
     "metadata": {},
     "output_type": "execute_result"
    }
   ],
   "source": [
    "list_1.reverse()\n",
    "list_1"
   ]
  },
  {
   "cell_type": "markdown",
   "id": "325deeb2",
   "metadata": {},
   "source": [
    "# Tuple"
   ]
  },
  {
   "cell_type": "code",
   "execution_count": 42,
   "id": "025bc5a0",
   "metadata": {},
   "outputs": [],
   "source": [
    "tup = (\"Gbg\",56,2.12,'minachi')"
   ]
  },
  {
   "cell_type": "code",
   "execution_count": 45,
   "id": "559e5b33",
   "metadata": {},
   "outputs": [
    {
     "data": {
      "text/plain": [
       "1"
      ]
     },
     "execution_count": 45,
     "metadata": {},
     "output_type": "execute_result"
    }
   ],
   "source": [
    "tup.count(56)"
   ]
  },
  {
   "cell_type": "code",
   "execution_count": 49,
   "id": "78d96988",
   "metadata": {},
   "outputs": [
    {
     "data": {
      "text/plain": [
       "tuple"
      ]
     },
     "execution_count": 49,
     "metadata": {},
     "output_type": "execute_result"
    }
   ],
   "source": [
    "A = ([2,3,5],[1,7,8])\n",
    "type(A)"
   ]
  },
  {
   "cell_type": "code",
   "execution_count": 50,
   "id": "3d4b8e62",
   "metadata": {},
   "outputs": [
    {
     "data": {
      "text/plain": [
       "([2, 3, 99], [1, 7, 8])"
      ]
     },
     "execution_count": 50,
     "metadata": {},
     "output_type": "execute_result"
    }
   ],
   "source": [
    "A[0][2] = 99\n",
    "A"
   ]
  },
  {
   "cell_type": "code",
   "execution_count": 52,
   "id": "d03e67b9",
   "metadata": {},
   "outputs": [
    {
     "data": {
      "text/plain": [
       "'SPAM'"
      ]
     },
     "execution_count": 52,
     "metadata": {},
     "output_type": "execute_result"
    }
   ],
   "source": [
    "s1 = \"spam\"\n",
    "s1.upper()"
   ]
  },
  {
   "cell_type": "code",
   "execution_count": 57,
   "id": "c206b555",
   "metadata": {},
   "outputs": [],
   "source": [
    "kurs = \"Python Kurs\""
   ]
  },
  {
   "cell_type": "code",
   "execution_count": 58,
   "id": "8e173ea4",
   "metadata": {},
   "outputs": [
    {
     "data": {
      "text/plain": [
       "'t'"
      ]
     },
     "execution_count": 58,
     "metadata": {},
     "output_type": "execute_result"
    }
   ],
   "source": [
    "kurs[2:3]"
   ]
  },
  {
   "cell_type": "code",
   "execution_count": 59,
   "id": "017fb435",
   "metadata": {},
   "outputs": [
    {
     "data": {
      "text/plain": [
       "'n'"
      ]
     },
     "execution_count": 59,
     "metadata": {},
     "output_type": "execute_result"
    }
   ],
   "source": [
    "kurs[5]"
   ]
  },
  {
   "cell_type": "code",
   "execution_count": 60,
   "id": "d4d77e77",
   "metadata": {},
   "outputs": [
    {
     "data": {
      "text/plain": [
       "'Kur'"
      ]
     },
     "execution_count": 60,
     "metadata": {},
     "output_type": "execute_result"
    }
   ],
   "source": [
    "kurs[-4:-1]"
   ]
  },
  {
   "cell_type": "code",
   "execution_count": null,
   "id": "48c670bb",
   "metadata": {},
   "outputs": [],
   "source": []
  }
 ],
 "metadata": {
  "kernelspec": {
   "display_name": "Python 3 (ipykernel)",
   "language": "python",
   "name": "python3"
  },
  "language_info": {
   "codemirror_mode": {
    "name": "ipython",
    "version": 3
   },
   "file_extension": ".py",
   "mimetype": "text/x-python",
   "name": "python",
   "nbconvert_exporter": "python",
   "pygments_lexer": "ipython3",
   "version": "3.10.9"
  }
 },
 "nbformat": 4,
 "nbformat_minor": 5
}
