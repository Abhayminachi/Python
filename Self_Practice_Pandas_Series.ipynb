{
 "cells": [
  {
   "cell_type": "code",
   "execution_count": 2,
   "id": "3d7c3adf",
   "metadata": {},
   "outputs": [],
   "source": [
    "import pandas as pd\n",
    "import numpy as np"
   ]
  },
  {
   "cell_type": "code",
   "execution_count": 3,
   "id": "e53c6957",
   "metadata": {},
   "outputs": [
    {
     "name": "stderr",
     "output_type": "stream",
     "text": [
      "C:\\Users\\Abhay Minachi\\AppData\\Local\\Temp\\ipykernel_11632\\2023714487.py:2: FutureWarning: The default dtype for empty Series will be 'object' instead of 'float64' in a future version. Specify a dtype explicitly to silence this warning.\n",
      "  s = pd.Series()\n"
     ]
    },
    {
     "data": {
      "text/plain": [
       "Series([], dtype: float64)"
      ]
     },
     "execution_count": 3,
     "metadata": {},
     "output_type": "execute_result"
    }
   ],
   "source": [
    "#empty series\n",
    "s = pd.Series()\n",
    "s"
   ]
  },
  {
   "cell_type": "code",
   "execution_count": 4,
   "id": "98d6704c",
   "metadata": {},
   "outputs": [
    {
     "data": {
      "text/plain": [
       "0     abh\n",
       "1     vrt\n",
       "2     rer\n",
       "3    gfgf\n",
       "dtype: object"
      ]
     },
     "execution_count": 4,
     "metadata": {},
     "output_type": "execute_result"
    }
   ],
   "source": [
    "# using the array, create a series\n",
    "data = np.array(['abh','vrt','rer','gfgf'])\n",
    "ser = pd.Series(data)\n",
    "ser"
   ]
  },
  {
   "cell_type": "code",
   "execution_count": 5,
   "id": "b534b77e",
   "metadata": {},
   "outputs": [
    {
     "name": "stdout",
     "output_type": "stream",
     "text": [
      "100    a\n",
      "101    b\n",
      "102    c\n",
      "103    d\n",
      "dtype: object\n"
     ]
    }
   ],
   "source": [
    "# using different indices\n",
    "data = np.array(['a','b','c','d'])\n",
    "s = pd.Series(data,index=[100,101,102,103])\n",
    "print(s)"
   ]
  },
  {
   "cell_type": "code",
   "execution_count": 6,
   "id": "08511304",
   "metadata": {},
   "outputs": [
    {
     "data": {
      "text/plain": [
       "abhay    22\n",
       "beans    45\n",
       "jones    78\n",
       "dtype: int64"
      ]
     },
     "execution_count": 6,
     "metadata": {},
     "output_type": "execute_result"
    }
   ],
   "source": [
    "# using dict\n",
    "data = {'abhay':22,'beans':45,'jones':78}\n",
    "s = pd.Series(data)\n",
    "s"
   ]
  },
  {
   "cell_type": "code",
   "execution_count": 7,
   "id": "9e899f74",
   "metadata": {},
   "outputs": [
    {
     "data": {
      "text/plain": [
       "b     2.0\n",
       "c    99.0\n",
       "d     NaN\n",
       "a    45.0\n",
       "dtype: float64"
      ]
     },
     "execution_count": 7,
     "metadata": {},
     "output_type": "execute_result"
    }
   ],
   "source": [
    "# using changed index, means using keys the sequencing can be changed\n",
    "data = {'a':45,'b':2,'c':99}\n",
    "s = pd.Series(data,index=['b','c','d','a'])\n",
    "s\n",
    "# The key that is not having any value will be assigned NaN"
   ]
  },
  {
   "cell_type": "code",
   "execution_count": 8,
   "id": "0bc69538",
   "metadata": {},
   "outputs": [
    {
     "data": {
      "text/plain": [
       "af    45\n",
       "b     45\n",
       "f     45\n",
       "h     45\n",
       "f     45\n",
       "dtype: int64"
      ]
     },
     "execution_count": 8,
     "metadata": {},
     "output_type": "execute_result"
    }
   ],
   "source": [
    "s = pd.Series(45,index = ['af','b','f','h','f'])\n",
    "s"
   ]
  },
  {
   "cell_type": "code",
   "execution_count": 9,
   "id": "449595f3",
   "metadata": {},
   "outputs": [
    {
     "data": {
      "text/plain": [
       "nan"
      ]
     },
     "execution_count": 9,
     "metadata": {},
     "output_type": "execute_result"
    }
   ],
   "source": [
    "data = {'a':45,'b':2,'c':99}\n",
    "s = pd.Series(data,index=['b','c','d','a'])\n",
    "s[2]"
   ]
  },
  {
   "cell_type": "code",
   "execution_count": 10,
   "id": "a9261964",
   "metadata": {},
   "outputs": [
    {
     "name": "stdout",
     "output_type": "stream",
     "text": [
      "d    4\n",
      "e    6\n",
      "dtype: int64\n"
     ]
    }
   ],
   "source": [
    "s = pd.Series([1,2,3,4,6],index = ['a','b','c','d','e'])\n",
    "\n",
    "#retrieve the last two element\n",
    "print(s[-2:])"
   ]
  },
  {
   "cell_type": "code",
   "execution_count": 11,
   "id": "230b0dc3",
   "metadata": {},
   "outputs": [
    {
     "name": "stdout",
     "output_type": "stream",
     "text": [
      "d    4\n",
      "a    1\n",
      "dtype: int64\n"
     ]
    }
   ],
   "source": [
    "s = pd.Series([1,2,3,4,6],index = ['a','b','c','d','e'])\n",
    "\n",
    "#retrieve the last two element\n",
    "print(s[['d','a']])"
   ]
  },
  {
   "cell_type": "code",
   "execution_count": 13,
   "id": "30f20ee8",
   "metadata": {
    "scrolled": true
   },
   "outputs": [
    {
     "name": "stdout",
     "output_type": "stream",
     "text": [
      "6\n"
     ]
    }
   ],
   "source": [
    "s = pd.Series([1,2,3,4,6],index = ['a','b','c','d','e'])\n",
    "\n",
    "#retrieve the last two element\n",
    "print(s['e'])"
   ]
  },
  {
   "cell_type": "code",
   "execution_count": null,
   "id": "d6dab2c4",
   "metadata": {},
   "outputs": [],
   "source": [
    "s = pd.Series(np.random.rand(5))\n",
    "print(s.round(2))\n",
    "print(s.axes)\n",
    "print(\"Is is the object empty\")\n",
    "print(s.empty)\n",
    "print(\"Size of the object is \",s.size,s.shape)\n",
    "print(\"\")"
   ]
  },
  {
   "cell_type": "code",
   "execution_count": null,
   "id": "4aea5ed1",
   "metadata": {},
   "outputs": [],
   "source": [
    "fruits = ['apple','banana','mango','jack']\n",
    "quantities = [20, 33, 52, 10]\n",
    "S = pd.Series(quantities, index=fruits)\n",
    "S"
   ]
  },
  {
   "cell_type": "code",
   "execution_count": null,
   "id": "812e8acd",
   "metadata": {},
   "outputs": [],
   "source": [
    "fruits = ['peaches', 'oranges', 'cherries', 'pears']\n",
    "fruits2 = ['raspberries', 'oranges', 'cherries', 'pears']\n",
    "S = pd.Series([20, 33, 52, 10], index=fruits)\n",
    "S2 = pd.Series([17, 13, 31, 32], index=fruits2)\n",
    "print(S + S2)\n"
   ]
  },
  {
   "cell_type": "code",
   "execution_count": null,
   "id": "338432fd",
   "metadata": {},
   "outputs": [],
   "source": [
    "S.apply(np.log)"
   ]
  },
  {
   "cell_type": "code",
   "execution_count": null,
   "id": "b64b9960",
   "metadata": {
    "scrolled": true
   },
   "outputs": [],
   "source": [
    "S[S>30]"
   ]
  },
  {
   "cell_type": "code",
   "execution_count": null,
   "id": "bca31c48",
   "metadata": {},
   "outputs": [],
   "source": [
    "cities = {\"London\": 8615246,\n",
    "\"Berlin\": 3562166,\n",
    "\"Madrid\": 3165235,\n",
    "\"Rome\": 2874038,\n",
    "\"Paris\": 2273305,\n",
    "\"Vienna\": 1805681,\n",
    "\"Bucharest\": 1803425,\n",
    "\"Hamburg\": 1760433,\n",
    "\"Budapest\": 1754000,\n",
    "\"Warsaw\": 1740119,\n",
    "\"Barcelona\": 1602386,\n",
    "\"Munich\": 1493900,\n",
    "\"Milan\": 1350680}\n",
    "city_series = pd.Series(cities)\n",
    "print(city_series)"
   ]
  },
  {
   "cell_type": "code",
   "execution_count": null,
   "id": "7b28a6ff",
   "metadata": {},
   "outputs": [],
   "source": [
    "my_cities = [\"London\", \"Paris\", \"Zurich\", \"Berlin\",\n",
    "\"Stuttgart\", \"Hamburg\"]\n",
    "my_city_series = pd.Series(cities,\n",
    "index=my_cities)\n",
    "my_city_series"
   ]
  },
  {
   "cell_type": "code",
   "execution_count": null,
   "id": "87b2ee1a",
   "metadata": {},
   "outputs": [],
   "source": [
    "my_cities = [\"London\", \"Paris\", \"Zurich\", \"Berlin\",\"Stuttgart\",\"Hamburg\"]\n",
    "my_city_series = pd.Series(cities,index=my_cities)\n",
    "print(my_city_series.isnull())"
   ]
  },
  {
   "cell_type": "code",
   "execution_count": null,
   "id": "6980bbeb",
   "metadata": {},
   "outputs": [],
   "source": [
    "print(my_cities)\n",
    "print(my_city_series.dropna())\n",
    "print(my_city_series.fillna(0))"
   ]
  },
  {
   "cell_type": "code",
   "execution_count": null,
   "id": "ba8ead36",
   "metadata": {},
   "outputs": [],
   "source": [
    "missing_cities = {\"Stuttgart\":597939, \"Zurich\":378884}\n",
    "my_city_series.fillna(missing_cities).astype(int)"
   ]
  },
  {
   "cell_type": "code",
   "execution_count": null,
   "id": "552bee3a",
   "metadata": {},
   "outputs": [],
   "source": []
  }
 ],
 "metadata": {
  "kernelspec": {
   "display_name": "Python 3 (ipykernel)",
   "language": "python",
   "name": "python3"
  },
  "language_info": {
   "codemirror_mode": {
    "name": "ipython",
    "version": 3
   },
   "file_extension": ".py",
   "mimetype": "text/x-python",
   "name": "python",
   "nbconvert_exporter": "python",
   "pygments_lexer": "ipython3",
   "version": "3.10.9"
  }
 },
 "nbformat": 4,
 "nbformat_minor": 5
}
