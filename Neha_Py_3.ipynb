{
 "cells": [
  {
   "cell_type": "code",
   "execution_count": 10,
   "id": "e7e6803d",
   "metadata": {},
   "outputs": [
    {
     "name": "stdout",
     "output_type": "stream",
     "text": [
      "Enter the number-8\n",
      "nagative number\n"
     ]
    }
   ],
   "source": [
    "value1 = int(input(\"Enter the number\"))\n",
    "if (value1 < 0):\n",
    "    print(\"nagative number\")\n",
    "elif (value1 > 0):\n",
    "    print(\"Postivei\")\n",
    "else:\n",
    "    print(\"Not sure\")"
   ]
  },
  {
   "cell_type": "code",
   "execution_count": 12,
   "id": "c5cfa3e8",
   "metadata": {},
   "outputs": [
    {
     "name": "stdout",
     "output_type": "stream",
     "text": [
      "enter the nametej\n",
      "Engter age34\n",
      "tej your age is  34\n"
     ]
    }
   ],
   "source": [
    "name = input(\"enter the name\")\n",
    "age = input(\"Engter age\")\n",
    "print(name, \"your age is \",age)"
   ]
  },
  {
   "cell_type": "code",
   "execution_count": 15,
   "id": "a5ac0c67",
   "metadata": {},
   "outputs": [
    {
     "data": {
      "text/plain": [
       "range(10, 50, 5)"
      ]
     },
     "execution_count": 15,
     "metadata": {},
     "output_type": "execute_result"
    }
   ],
   "source": [
    "r =range(10,50,5)\n",
    "r"
   ]
  },
  {
   "cell_type": "code",
   "execution_count": 18,
   "id": "d5402bae",
   "metadata": {},
   "outputs": [
    {
     "name": "stdout",
     "output_type": "stream",
     "text": [
      "1\n",
      "9\n",
      "25\n"
     ]
    }
   ],
   "source": [
    "a = [1,3,5]\n",
    "for i in a:\n",
    "    print(i*i)"
   ]
  },
  {
   "cell_type": "code",
   "execution_count": 31,
   "id": "5290f8c2",
   "metadata": {},
   "outputs": [],
   "source": [
    "l1 = ['apple','banana']\n",
    "l2 = ['red','white']\n",
    "l3 = list(zip(l1,l2))\n"
   ]
  },
  {
   "cell_type": "code",
   "execution_count": 33,
   "id": "91284816",
   "metadata": {},
   "outputs": [
    {
     "name": "stdout",
     "output_type": "stream",
     "text": [
      "fruit apple\n",
      "color red\n",
      "fruit banana\n",
      "color white\n"
     ]
    }
   ],
   "source": [
    "for i,j in l3:\n",
    "    print(\"fruit\",i)\n",
    "    print(\"color\",j)"
   ]
  }
 ],
 "metadata": {
  "kernelspec": {
   "display_name": "Python 3 (ipykernel)",
   "language": "python",
   "name": "python3"
  },
  "language_info": {
   "codemirror_mode": {
    "name": "ipython",
    "version": 3
   },
   "file_extension": ".py",
   "mimetype": "text/x-python",
   "name": "python",
   "nbconvert_exporter": "python",
   "pygments_lexer": "ipython3",
   "version": "3.10.9"
  }
 },
 "nbformat": 4,
 "nbformat_minor": 5
}
