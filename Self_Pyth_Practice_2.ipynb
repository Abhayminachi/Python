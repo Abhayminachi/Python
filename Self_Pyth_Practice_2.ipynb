{
 "cells": [
  {
   "cell_type": "markdown",
   "id": "c93e1b6d",
   "metadata": {},
   "source": [
    "# References"
   ]
  },
  {
   "cell_type": "code",
   "execution_count": 2,
   "id": "854ffd01",
   "metadata": {},
   "outputs": [
    {
     "data": {
      "text/plain": [
       "False"
      ]
     },
     "execution_count": 2,
     "metadata": {},
     "output_type": "execute_result"
    }
   ],
   "source": [
    "x=1\n",
    "y=x\n",
    "x is not y"
   ]
  },
  {
   "cell_type": "code",
   "execution_count": 4,
   "id": "342f8955",
   "metadata": {},
   "outputs": [
    {
     "data": {
      "text/plain": [
       "False"
      ]
     },
     "execution_count": 4,
     "metadata": {},
     "output_type": "execute_result"
    }
   ],
   "source": [
    "y=2\n",
    "x is y"
   ]
  },
  {
   "cell_type": "code",
   "execution_count": 7,
   "id": "489821e5",
   "metadata": {},
   "outputs": [],
   "source": [
    "s1 = [1,2,3,4]\n",
    "s2 = s1\n",
    "s2[2] = 17"
   ]
  },
  {
   "cell_type": "code",
   "execution_count": 8,
   "id": "c841d796",
   "metadata": {},
   "outputs": [
    {
     "data": {
      "text/plain": [
       "[1, 2, 17, 4]"
      ]
     },
     "execution_count": 8,
     "metadata": {},
     "output_type": "execute_result"
    }
   ],
   "source": [
    "s2"
   ]
  },
  {
   "cell_type": "code",
   "execution_count": 9,
   "id": "563101c2",
   "metadata": {},
   "outputs": [
    {
     "data": {
      "text/plain": [
       "[1, 2, 17, 4]"
      ]
     },
     "execution_count": 9,
     "metadata": {},
     "output_type": "execute_result"
    }
   ],
   "source": [
    "s1"
   ]
  },
  {
   "cell_type": "code",
   "execution_count": 12,
   "id": "2611521d",
   "metadata": {},
   "outputs": [
    {
     "data": {
      "text/plain": [
       "[1, 2, 17, 568]"
      ]
     },
     "execution_count": 12,
     "metadata": {},
     "output_type": "execute_result"
    }
   ],
   "source": [
    "s1[3] = 568\n",
    "s2"
   ]
  },
  {
   "cell_type": "markdown",
   "id": "309e6fcc",
   "metadata": {},
   "source": [
    "# Control Statements"
   ]
  },
  {
   "cell_type": "code",
   "execution_count": 17,
   "id": "d6cd7129",
   "metadata": {},
   "outputs": [
    {
     "name": "stdout",
     "output_type": "stream",
     "text": [
      " something else \n"
     ]
    }
   ],
   "source": [
    "a=11\n",
    "if a == 3:\n",
    "    print (\" spam \")\n",
    "elif a == 10:\n",
    "    print (\" eggs \")\n",
    "elif a == -3:\n",
    "    print (\" bacon \")\n",
    "else :\n",
    "    print (\" something else \")"
   ]
  },
  {
   "cell_type": "code",
   "execution_count": 20,
   "id": "636f22d2",
   "metadata": {},
   "outputs": [
    {
     "name": "stdout",
     "output_type": "stream",
     "text": [
      "The value is  1\n",
      "The value is  2\n",
      "The value is  3\n",
      "The value is  4\n",
      "The value is  5\n"
     ]
    }
   ],
   "source": [
    "for i in range(5):\n",
    "    print(\"The value is \",i+1)"
   ]
  },
  {
   "cell_type": "code",
   "execution_count": 23,
   "id": "7a3ba215",
   "metadata": {},
   "outputs": [
    {
     "name": "stdout",
     "output_type": "stream",
     "text": [
      "3\n",
      "4\n",
      "5\n",
      "6\n",
      "7\n"
     ]
    }
   ],
   "source": [
    "for i in range(3,8):\n",
    "    print(i)"
   ]
  },
  {
   "cell_type": "code",
   "execution_count": 30,
   "id": "f3aa2888",
   "metadata": {},
   "outputs": [
    {
     "name": "stdout",
     "output_type": "stream",
     "text": [
      "1\n",
      "3\n",
      "5\n",
      "7\n",
      "Loop Done\n"
     ]
    }
   ],
   "source": [
    "for i in range(1,9,2):\n",
    "    print(i)\n",
    "else:\n",
    "    print(\"Loop Done\")"
   ]
  },
  {
   "cell_type": "code",
   "execution_count": 32,
   "id": "ec21bdfa",
   "metadata": {},
   "outputs": [
    {
     "name": "stdout",
     "output_type": "stream",
     "text": [
      " spam \n",
      " eggs \n",
      " bacon \n"
     ]
    }
   ],
   "source": [
    "for data in [\"spam\", \"eggs\", \"bacon\"]:\n",
    "    print (data)"
   ]
  },
  {
   "cell_type": "code",
   "execution_count": 33,
   "id": "7ba6d84f",
   "metadata": {},
   "outputs": [
    {
     "data": {
      "text/plain": [
       "[0, 2, 4, 6, 8]"
      ]
     },
     "execution_count": 33,
     "metadata": {},
     "output_type": "execute_result"
    }
   ],
   "source": [
    "list(range(0,10,2))"
   ]
  },
  {
   "cell_type": "code",
   "execution_count": 35,
   "id": "c900c50e",
   "metadata": {
    "collapsed": true
   },
   "outputs": [
    {
     "name": "stdout",
     "output_type": "stream",
     "text": [
      "0 h\n",
      "1 e\n",
      "2 l\n",
      "3 l\n",
      "4 o\n",
      "5  \n",
      "6 w\n",
      "7 o\n",
      "8 r\n",
      "9 l\n",
      "10 d\n"
     ]
    }
   ],
   "source": [
    "for (i, char ) in enumerate (\"hello world\"):\n",
    "    print (i, char )"
   ]
  },
  {
   "cell_type": "code",
   "execution_count": 39,
   "id": "fd9c44b1",
   "metadata": {},
   "outputs": [
    {
     "name": "stdout",
     "output_type": "stream",
     "text": [
      "The Value is  0\n",
      "The Value is  1\n",
      "The Value is  2\n",
      "The Value is  3\n",
      "The Value is  4\n"
     ]
    }
   ],
   "source": [
    "i=0\n",
    "while(i<10):\n",
    "    print(\"The Value is \", i)\n",
    "    i=i+1\n",
    "    if(i==5):\n",
    "        break"
   ]
  },
  {
   "cell_type": "code",
   "execution_count": 40,
   "id": "0e3d3d3f",
   "metadata": {},
   "outputs": [],
   "source": [
    "def add(a,b):\n",
    "    mysum = a+b\n",
    "    return mysum"
   ]
  },
  {
   "cell_type": "code",
   "execution_count": 42,
   "id": "0db19d13",
   "metadata": {},
   "outputs": [
    {
     "name": "stdout",
     "output_type": "stream",
     "text": [
      "54\n"
     ]
    }
   ],
   "source": [
    "print(add(13,41))"
   ]
  },
  {
   "cell_type": "code",
   "execution_count": 43,
   "id": "0dc8a7e8",
   "metadata": {},
   "outputs": [
    {
     "name": "stdout",
     "output_type": "stream",
     "text": [
      "Help on function add in module __main__:\n",
      "\n",
      "add(a, b)\n",
      "\n"
     ]
    }
   ],
   "source": [
    "help(add)"
   ]
  },
  {
   "cell_type": "code",
   "execution_count": 45,
   "id": "7796a635",
   "metadata": {},
   "outputs": [
    {
     "name": "stdout",
     "output_type": "stream",
     "text": [
      "Hello World!\n",
      "None\n"
     ]
    }
   ],
   "source": [
    "def hello_world ():\n",
    "    print (\"Hello World!\")\n",
    "a = hello_world ()\n",
    "print (a)"
   ]
  },
  {
   "cell_type": "code",
   "execution_count": 47,
   "id": "b71875e4",
   "metadata": {},
   "outputs": [
    {
     "name": "stdout",
     "output_type": "stream",
     "text": [
      "9 36 9\n"
     ]
    }
   ],
   "source": [
    "# Multiple values caan be returned\n",
    "def two_returns(a,b):\n",
    "    return(a*a,b*b,a+b)\n",
    "\n",
    "x,y,z = two_returns(3,6)\n",
    "print(x,y,z)"
   ]
  },
  {
   "cell_type": "code",
   "execution_count": 49,
   "id": "f9177045",
   "metadata": {},
   "outputs": [
    {
     "name": "stdout",
     "output_type": "stream",
     "text": [
      "0 \n",
      "1 \n",
      "2 \n",
      "3 \n",
      "4 \n",
      "1 0 -1 -2 -3 "
     ]
    }
   ],
   "source": [
    "def fline (x, m=1, b =0): # f(x) = m*x + b\n",
    "    return m*x + b\n",
    "\n",
    "for i in range (5):\n",
    "    print ( fline (i), end=\" \")\n",
    "    # force newline\n",
    "    print ()\n",
    "for i in range (5):\n",
    "    print ( fline (i , -1 ,1) , end=\" \")"
   ]
  },
  {
   "cell_type": "code",
   "execution_count": 57,
   "id": "75721381",
   "metadata": {},
   "outputs": [
    {
     "name": "stdout",
     "output_type": "stream",
     "text": [
      "Person :  Abhay \n",
      "Age :  10  years \n",
      "Address :  bgm\n"
     ]
    }
   ],
   "source": [
    "def printContact (name ,age , location ):\n",
    "    print (\"Person : \", name )\n",
    "    print (\"Age : \", age , \" years \")\n",
    "    print (\"Address : \", location )\n",
    "printContact (\"Abhay \",10,\"bgm\")"
   ]
  },
  {
   "cell_type": "code",
   "execution_count": 60,
   "id": "67b6be5f",
   "metadata": {},
   "outputs": [
    {
     "data": {
      "text/plain": [
       "12.0"
      ]
     },
     "execution_count": 60,
     "metadata": {},
     "output_type": "execute_result"
    }
   ],
   "source": [
    "a = float\n",
    "a(12)"
   ]
  },
  {
   "cell_type": "code",
   "execution_count": 2,
   "id": "2f8b93a2",
   "metadata": {},
   "outputs": [
    {
     "name": "stdout",
     "output_type": "stream",
     "text": [
      "Enter your name Abhay\n"
     ]
    }
   ],
   "source": [
    "user_input = input(\"Enter your name \")"
   ]
  },
  {
   "cell_type": "code",
   "execution_count": 3,
   "id": "4e685cf2",
   "metadata": {},
   "outputs": [
    {
     "name": "stdout",
     "output_type": "stream",
     "text": [
      "['H:\\\\01_Anacond\\\\lib\\\\site-packages\\\\ipykernel_launcher.py', '-f', 'C:\\\\Users\\\\Abhay Minachi\\\\AppData\\\\Roaming\\\\jupyter\\\\runtime\\\\kernel-30221336-bb8d-490b-b90e-936435560520.json']\n"
     ]
    }
   ],
   "source": [
    "import sys\n",
    "print(sys.argv)"
   ]
  }
 ],
 "metadata": {
  "kernelspec": {
   "display_name": "Python 3 (ipykernel)",
   "language": "python",
   "name": "python3"
  },
  "language_info": {
   "codemirror_mode": {
    "name": "ipython",
    "version": 3
   },
   "file_extension": ".py",
   "mimetype": "text/x-python",
   "name": "python",
   "nbconvert_exporter": "python",
   "pygments_lexer": "ipython3",
   "version": "3.10.9"
  }
 },
 "nbformat": 4,
 "nbformat_minor": 5
}
