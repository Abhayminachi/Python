{
 "cells": [
  {
   "cell_type": "code",
   "execution_count": 23,
   "id": "2b61ccc5",
   "metadata": {},
   "outputs": [],
   "source": [
    "import math"
   ]
  },
  {
   "cell_type": "code",
   "execution_count": 24,
   "id": "e236d41f",
   "metadata": {},
   "outputs": [
    {
     "data": {
      "text/plain": [
       "2"
      ]
     },
     "execution_count": 24,
     "metadata": {},
     "output_type": "execute_result"
    }
   ],
   "source": [
    "math.floor(2.7)"
   ]
  },
  {
   "cell_type": "code",
   "execution_count": 25,
   "id": "2fcd97f4",
   "metadata": {},
   "outputs": [],
   "source": [
    "min = 'abhay'+'minachi'"
   ]
  },
  {
   "cell_type": "code",
   "execution_count": 26,
   "id": "1df47662",
   "metadata": {},
   "outputs": [
    {
     "data": {
      "text/plain": [
       "'abhayabhayabhayabhayabhayabhayabhayabhayabhayabhayabhayabhay'"
      ]
     },
     "execution_count": 26,
     "metadata": {},
     "output_type": "execute_result"
    }
   ],
   "source": [
    "'abhay'*12"
   ]
  },
  {
   "cell_type": "code",
   "execution_count": 27,
   "id": "32fe8d54",
   "metadata": {},
   "outputs": [],
   "source": [
    "#'abhay'/'abhay'"
   ]
  },
  {
   "cell_type": "code",
   "execution_count": 28,
   "id": "1394f46d",
   "metadata": {},
   "outputs": [
    {
     "data": {
      "text/plain": [
       "5"
      ]
     },
     "execution_count": 28,
     "metadata": {},
     "output_type": "execute_result"
    }
   ],
   "source": [
    "len('abhay')"
   ]
  },
  {
   "cell_type": "code",
   "execution_count": 29,
   "id": "a9526005",
   "metadata": {},
   "outputs": [],
   "source": [
    "txt = 'abhay is a good boy'"
   ]
  },
  {
   "cell_type": "code",
   "execution_count": 30,
   "id": "31f112fa",
   "metadata": {},
   "outputs": [
    {
     "data": {
      "text/plain": [
       "'Abhay is a good boy'"
      ]
     },
     "execution_count": 30,
     "metadata": {},
     "output_type": "execute_result"
    }
   ],
   "source": [
    "txt.capitalize()"
   ]
  },
  {
   "cell_type": "code",
   "execution_count": 31,
   "id": "b7fa977d",
   "metadata": {},
   "outputs": [
    {
     "data": {
      "text/plain": [
       "'abhay is a bad boy'"
      ]
     },
     "execution_count": 31,
     "metadata": {},
     "output_type": "execute_result"
    }
   ],
   "source": [
    "txt.replace('good','bad')"
   ]
  },
  {
   "cell_type": "code",
   "execution_count": 32,
   "id": "b0658563",
   "metadata": {},
   "outputs": [
    {
     "data": {
      "text/plain": [
       "7"
      ]
     },
     "execution_count": 32,
     "metadata": {},
     "output_type": "execute_result"
    }
   ],
   "source": [
    "txt.find('s')"
   ]
  },
  {
   "cell_type": "code",
   "execution_count": 33,
   "id": "a4ded77a",
   "metadata": {},
   "outputs": [
    {
     "data": {
      "text/plain": [
       "'abhay is a good boy'"
      ]
     },
     "execution_count": 33,
     "metadata": {},
     "output_type": "execute_result"
    }
   ],
   "source": [
    "txt"
   ]
  },
  {
   "cell_type": "code",
   "execution_count": 34,
   "id": "16427cba",
   "metadata": {},
   "outputs": [
    {
     "data": {
      "text/plain": [
       "False"
      ]
     },
     "execution_count": 34,
     "metadata": {},
     "output_type": "execute_result"
    }
   ],
   "source": [
    "txt.isnumeric()"
   ]
  },
  {
   "cell_type": "code",
   "execution_count": 35,
   "id": "fca5c4fc",
   "metadata": {},
   "outputs": [
    {
     "data": {
      "text/plain": [
       "['abhay is a ', ' boy']"
      ]
     },
     "execution_count": 35,
     "metadata": {},
     "output_type": "execute_result"
    }
   ],
   "source": [
    "txt.split('good')"
   ]
  },
  {
   "cell_type": "code",
   "execution_count": 36,
   "id": "87d8fa84",
   "metadata": {},
   "outputs": [
    {
     "name": "stdout",
     "output_type": "stream",
     "text": [
      "c\\user\\name\n"
     ]
    }
   ],
   "source": [
    "print(r\"c\\user\\name\")   #Raw string"
   ]
  },
  {
   "cell_type": "code",
   "execution_count": 37,
   "id": "5e38a78e",
   "metadata": {},
   "outputs": [],
   "source": [
    "list1 = ['Abhay',12.45,98,'a',-45.25]"
   ]
  },
  {
   "cell_type": "code",
   "execution_count": 38,
   "id": "7bb2580b",
   "metadata": {},
   "outputs": [],
   "source": [
    "list2 = [12,8989,458]"
   ]
  },
  {
   "cell_type": "code",
   "execution_count": 39,
   "id": "52a96306",
   "metadata": {},
   "outputs": [
    {
     "data": {
      "text/plain": [
       "[12.45, 98]"
      ]
     },
     "execution_count": 39,
     "metadata": {},
     "output_type": "execute_result"
    }
   ],
   "source": [
    "list1[1:3]"
   ]
  },
  {
   "cell_type": "code",
   "execution_count": 40,
   "id": "40dc8873",
   "metadata": {},
   "outputs": [
    {
     "name": "stdout",
     "output_type": "stream",
     "text": [
      "<class 'str'>\n",
      "<class 'float'>\n",
      "<class 'int'>\n",
      "<class 'str'>\n",
      "<class 'float'>\n"
     ]
    }
   ],
   "source": [
    "for i in list1:\n",
    "    print(type(i))\n"
   ]
  },
  {
   "cell_type": "code",
   "execution_count": 41,
   "id": "83982ce6",
   "metadata": {},
   "outputs": [],
   "source": [
    "list3 = ['abhay',['apple','13','oranage'],12,45,'minachi']"
   ]
  },
  {
   "cell_type": "code",
   "execution_count": 43,
   "id": "771262f0",
   "metadata": {},
   "outputs": [
    {
     "data": {
      "text/plain": [
       "'13'"
      ]
     },
     "execution_count": 43,
     "metadata": {},
     "output_type": "execute_result"
    }
   ],
   "source": [
    "list3[1][1]"
   ]
  },
  {
   "cell_type": "code",
   "execution_count": 45,
   "id": "c7b930fb",
   "metadata": {},
   "outputs": [],
   "source": [
    "list1.append('Minachi')"
   ]
  },
  {
   "cell_type": "code",
   "execution_count": 48,
   "id": "320abf3c",
   "metadata": {},
   "outputs": [],
   "source": [
    "list1.append(['Gora',24])"
   ]
  },
  {
   "cell_type": "code",
   "execution_count": 49,
   "id": "69527fbf",
   "metadata": {},
   "outputs": [
    {
     "data": {
      "text/plain": [
       "['Abhay', 12.45, 98, 'a', -45.25, 'Minachi', ['Gora', 24]]"
      ]
     },
     "execution_count": 49,
     "metadata": {},
     "output_type": "execute_result"
    }
   ],
   "source": [
    "list1"
   ]
  },
  {
   "cell_type": "code",
   "execution_count": 50,
   "id": "697f8b9e",
   "metadata": {},
   "outputs": [
    {
     "data": {
      "text/plain": [
       "['Abhay', 12.45, 'Gurrala', 98, 'a', -45.25, 'Minachi', ['Gora', 24]]"
      ]
     },
     "execution_count": 50,
     "metadata": {},
     "output_type": "execute_result"
    }
   ],
   "source": [
    "list1.insert(2,\"Gurrala\")\n",
    "list1"
   ]
  },
  {
   "cell_type": "code",
   "execution_count": 52,
   "id": "b6edd7c0",
   "metadata": {},
   "outputs": [
    {
     "name": "stdout",
     "output_type": "stream",
     "text": [
      "Enter the nameAbhay\n",
      "Abhay is good boy\n"
     ]
    }
   ],
   "source": [
    "inp = input(\"Enter the name\")\n",
    "print(inp, \"is good boy\")"
   ]
  },
  {
   "cell_type": "code",
   "execution_count": 55,
   "id": "5f0eece8",
   "metadata": {},
   "outputs": [
    {
     "data": {
      "text/plain": [
       "5"
      ]
     },
     "execution_count": 55,
     "metadata": {},
     "output_type": "execute_result"
    }
   ],
   "source": [
    "len(list3)"
   ]
  },
  {
   "cell_type": "code",
   "execution_count": 66,
   "id": "ea5f0f74",
   "metadata": {},
   "outputs": [
    {
     "data": {
      "text/plain": [
       "['abhay', ['apple', '13', 'oranage'], 12, 'minach']"
      ]
     },
     "execution_count": 66,
     "metadata": {},
     "output_type": "execute_result"
    }
   ],
   "source": [
    "list3"
   ]
  },
  {
   "cell_type": "code",
   "execution_count": 67,
   "id": "52e49cfe",
   "metadata": {},
   "outputs": [],
   "source": [
    "tup = ();"
   ]
  },
  {
   "cell_type": "code",
   "execution_count": 68,
   "id": "4bebe72a",
   "metadata": {},
   "outputs": [
    {
     "data": {
      "text/plain": [
       "tuple"
      ]
     },
     "execution_count": 68,
     "metadata": {},
     "output_type": "execute_result"
    }
   ],
   "source": [
    "type(tup)"
   ]
  },
  {
   "cell_type": "code",
   "execution_count": 72,
   "id": "76a26651",
   "metadata": {},
   "outputs": [
    {
     "data": {
      "text/plain": [
       "('Abhay', 12, 'Minachi', 12.456)"
      ]
     },
     "execution_count": 72,
     "metadata": {},
     "output_type": "execute_result"
    }
   ],
   "source": [
    "tup1 = (\"Abhay\",12,\"Minachi\",12.456)\n",
    "tup1"
   ]
  },
  {
   "cell_type": "code",
   "execution_count": 73,
   "id": "4906da4a",
   "metadata": {},
   "outputs": [
    {
     "ename": "TypeError",
     "evalue": "'tuple' object does not support item assignment",
     "output_type": "error",
     "traceback": [
      "\u001b[1;31m---------------------------------------------------------------------------\u001b[0m",
      "\u001b[1;31mTypeError\u001b[0m                                 Traceback (most recent call last)",
      "Cell \u001b[1;32mIn[73], line 1\u001b[0m\n\u001b[1;32m----> 1\u001b[0m tup1[\u001b[38;5;241m2\u001b[39m]\u001b[38;5;241m=\u001b[39m \u001b[38;5;124m\"\u001b[39m\u001b[38;5;124mMomo\u001b[39m\u001b[38;5;124m\"\u001b[39m\n",
      "\u001b[1;31mTypeError\u001b[0m: 'tuple' object does not support item assignment"
     ]
    }
   ],
   "source": [
    "tup1[2] = \"Momo\""
   ]
  },
  {
   "cell_type": "code",
   "execution_count": 75,
   "id": "59f279bd",
   "metadata": {},
   "outputs": [
    {
     "data": {
      "text/plain": [
       "{'name': ['Abhay', 'Minachi'], 'age': [12, 45, 98], 'salary': [45788, 12456]}"
      ]
     },
     "execution_count": 75,
     "metadata": {},
     "output_type": "execute_result"
    }
   ],
   "source": [
    "s1 = {'name':['Abhay','Minachi'],'age':[12,45,98],'salary':[45788,12456]}\n",
    "s1"
   ]
  },
  {
   "cell_type": "code",
   "execution_count": 76,
   "id": "ce8fb10e",
   "metadata": {},
   "outputs": [],
   "source": [
    "s1['name'][1] = 'Kaka'"
   ]
  },
  {
   "cell_type": "code",
   "execution_count": 77,
   "id": "68c664b2",
   "metadata": {},
   "outputs": [
    {
     "data": {
      "text/plain": [
       "{'name': ['Abhay', 'Kaka'], 'age': [12, 45, 98], 'salary': [45788, 12456]}"
      ]
     },
     "execution_count": 77,
     "metadata": {},
     "output_type": "execute_result"
    }
   ],
   "source": [
    "s1\n"
   ]
  },
  {
   "cell_type": "code",
   "execution_count": null,
   "id": "bedb0c2f",
   "metadata": {},
   "outputs": [],
   "source": []
  }
 ],
 "metadata": {
  "kernelspec": {
   "display_name": "Python 3 (ipykernel)",
   "language": "python",
   "name": "python3"
  },
  "language_info": {
   "codemirror_mode": {
    "name": "ipython",
    "version": 3
   },
   "file_extension": ".py",
   "mimetype": "text/x-python",
   "name": "python",
   "nbconvert_exporter": "python",
   "pygments_lexer": "ipython3",
   "version": "3.10.9"
  }
 },
 "nbformat": 4,
 "nbformat_minor": 5
}
