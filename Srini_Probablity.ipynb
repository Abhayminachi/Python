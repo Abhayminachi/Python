{
 "cells": [
  {
   "cell_type": "code",
   "execution_count": 11,
   "metadata": {
    "id": "EcODfonUQxcm"
   },
   "outputs": [],
   "source": [
    "from scipy import stats"
   ]
  },
  {
   "cell_type": "code",
   "execution_count": 12,
   "metadata": {
    "id": "mj2c2DzQVmLs"
   },
   "outputs": [],
   "source": [
    "import numpy as np\n",
    "import pandas as pd"
   ]
  },
  {
   "cell_type": "code",
   "execution_count": 13,
   "metadata": {
    "colab": {
     "base_uri": "https://localhost:8080/"
    },
    "id": "MSGA_ANrTlJe",
    "outputId": "f7b67a35-246c-4f25-e257-36c99cd8193d"
   },
   "outputs": [
    {
     "data": {
      "text/plain": [
       "0.699"
      ]
     },
     "execution_count": 13,
     "metadata": {},
     "output_type": "execute_result"
    }
   ],
   "source": [
    "# Find the probablity of selecting the random student whose GMAT are within 680 and  740, given the mean as 711 and std as 29\n",
    "(stats.norm.cdf(740,711,29)-stats.norm.cdf(680,711,29)).round(3)"
   ]
  },
  {
   "cell_type": "code",
   "execution_count": 14,
   "metadata": {
    "colab": {
     "base_uri": "https://localhost:8080/"
    },
    "id": "LRB5Bi2NQ5Ul",
    "outputId": "41e28075-d36b-4ed1-dc7d-afff44817c9e"
   },
   "outputs": [
    {
     "data": {
      "text/plain": [
       "0.84"
      ]
     },
     "execution_count": 14,
     "metadata": {},
     "output_type": "execute_result"
    }
   ],
   "source": [
    "# Continous distribution function\n",
    "# Find the probablity of selecting the random student whose marks are less than 70, given the mean as 60 and std as 10\n",
    "stats.norm.cdf(70,60,10).round(2)"
   ]
  },
  {
   "cell_type": "code",
   "execution_count": 15,
   "metadata": {
    "colab": {
     "base_uri": "https://localhost:8080/"
    },
    "id": "z1rSpAdURXnD",
    "outputId": "0c15e770-6188-47fb-93ae-ec83d9ba5d89"
   },
   "outputs": [
    {
     "data": {
      "text/plain": [
       "0.14"
      ]
     },
     "execution_count": 15,
     "metadata": {},
     "output_type": "execute_result"
    }
   ],
   "source": [
    "# Find the probablity of selecting the random student whose GMAT are less than 680, given the mean as 711 and std as 29\n",
    "stats.norm.cdf(680,711,29).round(2)"
   ]
  },
  {
   "cell_type": "code",
   "execution_count": 16,
   "metadata": {
    "colab": {
     "base_uri": "https://localhost:8080/"
    },
    "id": "__gI-keZSU0V",
    "outputId": "aae125ce-8d0a-43b0-a33a-1afa42a9d030"
   },
   "outputs": [
    {
     "data": {
      "text/plain": [
       "0.38"
      ]
     },
     "execution_count": 16,
     "metadata": {},
     "output_type": "execute_result"
    }
   ],
   "source": [
    "# Find the probablity of selecting the random student whose GMAT are greater than 720, given the mean as 711 and std as 29\n",
    "1 - stats.norm.cdf(720,711,29).round(2)"
   ]
  },
  {
   "cell_type": "code",
   "execution_count": 17,
   "metadata": {
    "colab": {
     "base_uri": "https://localhost:8080/",
     "height": 363
    },
    "id": "2fMz0uD1ViZb",
    "outputId": "6ac2f0a4-29a4-442a-c820-f5c1edf21c14"
   },
   "outputs": [
    {
     "name": "stdout",
     "output_type": "stream",
     "text": [
      "Columns are  Index(['id', 'name', 'class', 'mark', 'gender', 'Age', 'height', 'weight',\n",
      "       'State'],\n",
      "      dtype='object')\n",
      "Mean is  60.77142857142857\n",
      "Std dev is 9.852099550157748\n"
     ]
    }
   ],
   "source": [
    "student = pd.read_csv(\"H:\\\\14_dataScience\\\\student.csv\")\n",
    "print(\"Columns are \",student.columns)\n",
    "print(\"Mean is \",student[\"weight\"].mean())\n",
    "print(\"Std dev is\",student[\"weight\"].std())"
   ]
  },
  {
   "cell_type": "code",
   "execution_count": 18,
   "metadata": {
    "id": "NgfGZSSjWSds"
   },
   "outputs": [
    {
     "data": {
      "text/plain": [
       "0.14"
      ]
     },
     "execution_count": 18,
     "metadata": {},
     "output_type": "execute_result"
    }
   ],
   "source": [
    "#Probablity of weight of person is less than 50\n",
    "stats.norm.cdf(50,60.77,9.85).round(2)"
   ]
  },
  {
   "cell_type": "code",
   "execution_count": 19,
   "metadata": {
    "id": "_RkxsO5VXQxV"
   },
   "outputs": [
    {
     "data": {
      "text/plain": [
       "0.55"
      ]
     },
     "execution_count": 19,
     "metadata": {},
     "output_type": "execute_result"
    }
   ],
   "source": [
    "#Probablity of weight of person is betwen 55 and 70\n",
    "(stats.norm.cdf(70,60.77,9.85).round(2) - stats.norm.cdf(55,60.77,9.85).round(2)).round(3)"
   ]
  },
  {
   "cell_type": "code",
   "execution_count": 20,
   "metadata": {
    "colab": {
     "base_uri": "https://localhost:8080/"
    },
    "id": "fB5VW1C7AoxW",
    "outputId": "6108de8f-5190-46a2-89d9-e24f69eeea6b"
   },
   "outputs": [
    {
     "data": {
      "text/plain": [
       "9.626040414758089e-10"
      ]
     },
     "execution_count": 20,
     "metadata": {},
     "output_type": "execute_result"
    }
   ],
   "source": [
    "2*stats.t.cdf(-7.542472333,49)"
   ]
  },
  {
   "cell_type": "code",
   "execution_count": 21,
   "metadata": {
    "id": "8preT6tpAxp0"
   },
   "outputs": [],
   "source": [
    "Data = pd.Series([0.593,0.142,0.329,0.691,0.231,0.793,0.519,0.392,0.418])"
   ]
  },
  {
   "cell_type": "code",
   "execution_count": 22,
   "metadata": {
    "colab": {
     "base_uri": "https://localhost:8080/"
    },
    "id": "b2mTRNJDA1-8",
    "outputId": "411dc6ce-1bb1-43b6-a462-ccf8408fc0c9"
   },
   "outputs": [
    {
     "data": {
      "text/plain": [
       "TtestResult(statistic=2.2050588385131595, pvalue=0.05853032968489765, df=8)"
      ]
     },
     "execution_count": 22,
     "metadata": {},
     "output_type": "execute_result"
    }
   ],
   "source": [
    "stats.ttest_1samp(Data,0.3)"
   ]
  },
  {
   "cell_type": "code",
   "execution_count": 23,
   "metadata": {
    "id": "pJUUoo_GA4C0"
   },
   "outputs": [],
   "source": [
    "control = pd.Series([91,87,99,77,88,91])\n",
    "placebo = pd.Series([101,110,103,93,99,104])"
   ]
  },
  {
   "cell_type": "code",
   "execution_count": 24,
   "metadata": {
    "colab": {
     "base_uri": "https://localhost:8080/"
    },
    "id": "-fvjzdnKA55N",
    "outputId": "4b844498-7d51-42df-8089-e4bde70450a4"
   },
   "outputs": [
    {
     "data": {
      "text/plain": [
       "Ttest_indResult(statistic=-3.4456126735364876, pvalue=0.006272124350809803)"
      ]
     },
     "execution_count": 24,
     "metadata": {},
     "output_type": "execute_result"
    }
   ],
   "source": [
    "stats.ttest_ind(control,placebo)"
   ]
  },
  {
   "cell_type": "code",
   "execution_count": 25,
   "metadata": {},
   "outputs": [],
   "source": [
    "#Proportion test\n",
    "#  Data   :\n",
    "n1 = 247;p1 = 0.36;\n",
    "n2 = 308;p2 = 0.39;"
   ]
  },
  {
   "cell_type": "code",
   "execution_count": 30,
   "metadata": {},
   "outputs": [],
   "source": [
    "population1  = np.random.binomial(1,p1,n1)\n",
    "population2  = np.random.binomial(1,p2,n2)"
   ]
  },
  {
   "cell_type": "code",
   "execution_count": 31,
   "metadata": {},
   "outputs": [
    {
     "data": {
      "text/plain": [
       "0.3684210526315789"
      ]
     },
     "execution_count": 31,
     "metadata": {},
     "output_type": "execute_result"
    }
   ],
   "source": [
    "population1.mean()"
   ]
  },
  {
   "cell_type": "code",
   "execution_count": 32,
   "metadata": {},
   "outputs": [],
   "source": [
    "import statsmodels.api as sm"
   ]
  },
  {
   "cell_type": "code",
   "execution_count": 33,
   "metadata": {},
   "outputs": [
    {
     "data": {
      "text/plain": [
       "(0.1160983523683079, 0.9076167418771142, 553.0)"
      ]
     },
     "execution_count": 33,
     "metadata": {},
     "output_type": "execute_result"
    }
   ],
   "source": [
    "sm.stats.ttest_ind(population1,population2)"
   ]
  },
  {
   "cell_type": "code",
   "execution_count": null,
   "metadata": {},
   "outputs": [],
   "source": []
  }
 ],
 "metadata": {
  "colab": {
   "provenance": []
  },
  "kernelspec": {
   "display_name": "Python 3 (ipykernel)",
   "language": "python",
   "name": "python3"
  },
  "language_info": {
   "codemirror_mode": {
    "name": "ipython",
    "version": 3
   },
   "file_extension": ".py",
   "mimetype": "text/x-python",
   "name": "python",
   "nbconvert_exporter": "python",
   "pygments_lexer": "ipython3",
   "version": "3.10.9"
  }
 },
 "nbformat": 4,
 "nbformat_minor": 1
}
